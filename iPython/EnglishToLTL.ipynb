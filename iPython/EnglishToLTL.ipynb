{
 "cells": [
  {
   "cell_type": "code",
   "execution_count": 27,
   "metadata": {
    "collapsed": true
   },
   "outputs": [],
   "source": [
    "import string"
   ]
  },
  {
   "cell_type": "code",
   "execution_count": 28,
   "metadata": {
    "collapsed": true
   },
   "outputs": [],
   "source": [
    "queries = [\n",
    "    'Did I maintain a speed of 20 mph for 5 minutes after biking an incline of 5 degrees?'\n",
    "]"
   ]
  },
  {
   "cell_type": "code",
   "execution_count": 102,
   "metadata": {
    "collapsed": false
   },
   "outputs": [],
   "source": [
    "triggerPhrases = [\n",
    "    ['did i', 'do i'],\n",
    "    ['how many', 'how much']\n",
    "]\n",
    "# Should contain all recognizable words\n",
    "synonyms = [\n",
    "    ['maintain'],\n",
    "    ['after'],\n",
    "    ['until'],\n",
    "    ['greater'],\n",
    "    ['less'],\n",
    "    ['speed', 'velocity'],\n",
    "    ['distance'],\n",
    "    ['incline', 'hill'],\n",
    "    ['altitude', 'elevation', 'height'],\n",
    "    ['degree', 'º', '°', 'deg'],\n",
    "    ['mph', 'miles per hour'],\n",
    "    ['second'],\n",
    "    ['minute'],\n",
    "    ['hour'],\n",
    "    ['meter'],\n",
    "    ['foot'],\n",
    "    ['of']\n",
    "]\n",
    "unitWords = [  # Omit s if can be plural\n",
    "    'degree', 'mph', 'second', 'minute', 'hour', 'meter', 'foot'\n",
    "]\n",
    "connectingWords = [\n",
    "    'of'\n",
    "]\n",
    "operatorWords = [\n",
    "    'maintain', 'after', 'until', 'greater', 'less'\n",
    "]\n",
    "variableWords = [\n",
    "    'speed', 'altitude', 'distance', 'incline'\n",
    "]\n",
    "operatorForms = {\n",
    "    'maintain': [\n",
    "        ['maintain', 'BOOL_EXPR', 'VALUE']\n",
    "        ###['maintain', 'BOOL_EXPR', 'until']\n",
    "    ],\n",
    "    'after': [\n",
    "        ['BOOL_EXPR', 'after', 'BOOL_EXPR']\n",
    "    ],\n",
    "    #'until': []\n",
    "    'greater': [\n",
    "        ['REAL_EXPR', 'greater', 'REAL_EXPR']\n",
    "    ],\n",
    "    'less': [\n",
    "        ['REAL_EXPR', 'less', 'REAL_EXPR']\n",
    "    ]\n",
    "    # ...\n",
    "}"
   ]
  },
  {
   "cell_type": "code",
   "execution_count": 103,
   "metadata": {
    "collapsed": true
   },
   "outputs": [],
   "source": [
    "synonymDict = {}\n",
    "for group in synonyms:\n",
    "    standardWord = group[0]\n",
    "    for word in group:\n",
    "        synonymDict[word] = standardWord"
   ]
  },
  {
   "cell_type": "code",
   "execution_count": 86,
   "metadata": {
    "collapsed": false
   },
   "outputs": [],
   "source": [
    "all = string.maketrans('','')\n",
    "noDigs = all.translate(all, string.digits)\n",
    "noLetters = all.translate(all, string.letters)\n",
    "allowedLetters = ' abcdefghijklmnopqrstuvwxyz0123456789%.º°'\n",
    "notAllowed = all.translate(all, allowedLetters)\n",
    "def cleanQuery(query):\n",
    "    return query.lower().translate(all, notAllowed)"
   ]
  },
  {
   "cell_type": "code",
   "execution_count": 87,
   "metadata": {
    "collapsed": false
   },
   "outputs": [],
   "source": [
    "def wordToStandard(word):\n",
    "    if word is None:\n",
    "        return None\n",
    "    word = word.lower()  # Lower case\n",
    "    if len(word) == 0:\n",
    "        return None\n",
    "    if word[0] in '-0123456789':\n",
    "        #TODO: Maybe more processing of numbers\n",
    "        return word\n",
    "    if word in synonymDict:\n",
    "        return synonymDict[word]\n",
    "    word = word.translate(all, noLetters)  # Keep only letters\n",
    "    if word in synonymDict:\n",
    "        return synonymDict[word]\n",
    "    if word[-1] == 's':\n",
    "        word = word[:-1]\n",
    "        if word in synonymDict:\n",
    "            return synonymDict[word]\n",
    "    return None"
   ]
  },
  {
   "cell_type": "code",
   "execution_count": 107,
   "metadata": {
    "collapsed": false
   },
   "outputs": [],
   "source": [
    "class Token:\n",
    "    '''A word associated with its meaning'''\n",
    "    # Token types\n",
    "    UNKNOWN = 0\n",
    "    NONE = 1\n",
    "    OPERATOR = 2\n",
    "    CONNECTOR = 3\n",
    "    NUMBER = 4\n",
    "    UNIT = 5\n",
    "    VARIABLE = 6\n",
    "    def __init__(self, word, left=None, right=None):\n",
    "        self.origWord = word\n",
    "        self.word = wordToStandard(word)\n",
    "        self.left = wordToStandard(left)\n",
    "        self.right = wordToStandard(right)\n",
    "        if self.word in operatorWords:\n",
    "            self.type = Token.OPERATOR\n",
    "        elif self.word in variableWords:\n",
    "            self.type = Token.VARIABLE\n",
    "        elif self.word in unitWords:\n",
    "            self.type = Token.UNIT\n",
    "        elif self.word in connectingWords:\n",
    "            self.type = Token.CONNECTOR\n",
    "        elif len(self.word) > 0 and self.word[0] in '-0123456789':\n",
    "            self.type = Token.NUMBER\n",
    "        else:\n",
    "            self.type = NONE\n",
    "            if self.word is not None:\n",
    "                print repr(self.origWord), repr(self.word), 'not understood.'\n",
    "    def __str__(self):\n",
    "        typeStr = ['UNKNOWN', 'NONE', 'OPERATOR', 'CONNECTOR',\n",
    "                   'NUMBER', 'UNIT', 'VARIABLE'][self.type]\n",
    "        return '<%s, %s>' % (self.word, typeStr)\n",
    "    def __repr__(self):\n",
    "        return self.__str__()"
   ]
  },
  {
   "cell_type": "code",
   "execution_count": 108,
   "metadata": {
    "collapsed": false
   },
   "outputs": [],
   "source": [
    "class TokenGroup:\n",
    "    '''A group of tokens that mean somthing as a group'''\n",
    "    # Group types\n",
    "    UNKOWN = 100\n",
    "    VALUE = 101  # Number with unit\n",
    "    BOOL_EXPR = 102  # Logical or temporal\n",
    "    REAL_EXPR = 103\n",
    "    tokenPatterns = {\n",
    "        VALUE: [\n",
    "            [Token.NUMBER, Token.UNIT],\n",
    "            [Token.NUMBER]\n",
    "        ],\n",
    "        BOOL_EXPR: [\n",
    "            # Equality operator\n",
    "            [Token.VARIABLE, Token.CONNECTOR, VALUE],\n",
    "            [VALUE, Token.VARIABLE],\n",
    "            []\n",
    "        ]\n",
    "    }\n",
    "    def __init__(self, type, tokens):\n",
    "        self.type = type\n",
    "        self.tokens = tokens\n",
    "    def __str__(self):\n",
    "        typeStr = ['UNKNOWN', 'VAL', 'EXPRESSION'][self.type-100]\n",
    "        if self.type == TokenGroup.UNKNOWN:\n",
    "            return '<TokenGroup UNKNOWN>'\n",
    "        if self.type == TokenGroup.VALUE:\n",
    "            return '<VAL %s %s>' \n",
    "        if self.type == TokenGroup.BOOL_EXPR:\n",
    "            return '<EXPR>'\n",
    "        if self.type == TokenGroup.REAL_EXPR:\n",
    "            return '<EXPR>'\n",
    "            #return '<%s, %s>' % (repr(self.word), typeStr)\n",
    "    def __repr__(self):\n",
    "        return self.__str__()"
   ]
  },
  {
   "cell_type": "code",
   "execution_count": 109,
   "metadata": {
    "collapsed": false
   },
   "outputs": [],
   "source": [
    "def splitQuery(query):\n",
    "    query = cleanQuery(query)\n",
    "    l = query.split()\n",
    "    tokens = []\n",
    "    for word in l:\n",
    "        standard = wordToStandard(word)\n",
    "        if standard is not None:\n",
    "            tokens.append(standard)\n",
    "    return tokens"
   ]
  },
  {
   "cell_type": "code",
   "execution_count": 110,
   "metadata": {
    "collapsed": false
   },
   "outputs": [
    {
     "data": {
      "text/plain": [
       "['maintain',\n",
       " 'speed',\n",
       " 'of',\n",
       " '20',\n",
       " 'mph',\n",
       " '5',\n",
       " 'minute',\n",
       " 'after',\n",
       " 'incline',\n",
       " 'of',\n",
       " '5',\n",
       " 'degree']"
      ]
     },
     "execution_count": 110,
     "metadata": {},
     "output_type": "execute_result"
    }
   ],
   "source": [
    "splitQuery(queries[0])"
   ]
  },
  {
   "cell_type": "code",
   "execution_count": 111,
   "metadata": {
    "collapsed": false
   },
   "outputs": [],
   "source": [
    "def tokenizeQuery(query):\n",
    "    split = splitQuery(query)\n",
    "    tokens = []\n",
    "    for i in xrange(len(split)):\n",
    "        left = None if i-1 < 0 else split[i-1]\n",
    "        right = None if i+1 >= len(split) else split[i+1]\n",
    "        t = Token(split[i], left, right)\n",
    "        if t.type != Token.UNKNOWN and t.type != Token.NONE:\n",
    "            tokens.append(t)\n",
    "    return tokens"
   ]
  },
  {
   "cell_type": "code",
   "execution_count": 112,
   "metadata": {
    "collapsed": false
   },
   "outputs": [
    {
     "data": {
      "text/plain": [
       "[<maintain, OPERATOR>,\n",
       " <speed, VARIABLE>,\n",
       " <of, CONNECTOR>,\n",
       " <20, NUMBER>,\n",
       " <mph, UNIT>,\n",
       " <5, NUMBER>,\n",
       " <minute, UNIT>,\n",
       " <after, OPERATOR>,\n",
       " <incline, VARIABLE>,\n",
       " <of, CONNECTOR>,\n",
       " <5, NUMBER>,\n",
       " <degree, UNIT>]"
      ]
     },
     "execution_count": 112,
     "metadata": {},
     "output_type": "execute_result"
    }
   ],
   "source": [
    "tokenizeQuery(queries[0])"
   ]
  },
  {
   "cell_type": "code",
   "execution_count": 80,
   "metadata": {
    "collapsed": false
   },
   "outputs": [
    {
     "data": {
      "text/plain": [
       "<None, UNIT>"
      ]
     },
     "execution_count": 80,
     "metadata": {},
     "output_type": "execute_result"
    }
   ],
   "source": [
    "Token('until')"
   ]
  },
  {
   "cell_type": "code",
   "execution_count": null,
   "metadata": {
    "collapsed": true
   },
   "outputs": [],
   "source": []
  }
 ],
 "metadata": {
  "kernelspec": {
   "display_name": "Python 2",
   "language": "python",
   "name": "python2"
  },
  "language_info": {
   "codemirror_mode": {
    "name": "ipython",
    "version": 2
   },
   "file_extension": ".py",
   "mimetype": "text/x-python",
   "name": "python",
   "nbconvert_exporter": "python",
   "pygments_lexer": "ipython2",
   "version": "2.7.10"
  }
 },
 "nbformat": 4,
 "nbformat_minor": 0
}
