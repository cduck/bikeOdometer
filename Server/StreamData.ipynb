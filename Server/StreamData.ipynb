{
 "cells": [
  {
   "cell_type": "code",
   "execution_count": 6,
   "metadata": {
    "collapsed": false
   },
   "outputs": [],
   "source": [
    "from pylab import *\n",
    "import time\n",
    "import matplotlib\n",
    "\n",
    "ion()\n",
    "clf()\n",
    "\n",
    "f = open('data2015-12-13_14-51-57.txt','rt')\n",
    "data = [[float(token) for token in line.split()] for line in f.readlines()[::]]\n",
    "\n",
    "timewindow = 30\n",
    "tstart = time.time()               # for profiling\n",
    "x = [0] * 50 # x-array\n",
    "z = [0] * 50\n",
    "\n",
    "\n",
    "ax1 = plt.axes()\n",
    "ax1.set_xlabel('time (s)')\n",
    "ax2 = ax1.twinx()\n",
    "\n",
    "ax1.set_ylabel('Inst. Speed (m/s)', color='b')\n",
    "ax2.set_ylabel('Total Dist (m)', color='r')\n",
    "\n",
    "lineS,  = ax1.plot(x,z, 'b')\n",
    "lineD, = ax2.plot(x,z, 'r')\n",
    "i = 0\n",
    "t= []\n",
    "y= []\n",
    "d= []\n",
    "\n",
    "\n",
    "\n",
    "\n",
    "while i<len(data):\n",
    "\n",
    "    # update the data\n",
    "    lineS.set_xdata(t)\n",
    "    lineS.set_ydata(y)  \n",
    "    lineD.set_xdata(t)\n",
    "    lineD.set_ydata(d)\n",
    "    \n",
    "    #update data array\n",
    "    y.append(data[i][4])\n",
    "    t.append(data[i][0])\n",
    "    d.append(data[i][3])\n",
    "    \n",
    "    draw()                         # redraw the canvas\n",
    "    \n",
    "    #scale axes to fit\n",
    "    ax1.set_ylim([min(y)-1, max(y)+1])\n",
    "    ax2.set_ylim([min(d)-1, max(d)+1])\n",
    "    \n",
    "    # move time window to keep real-time\n",
    "    if i > timewindow:\n",
    "        plt.xlim([0, t[i-1]])\n",
    "        \n",
    "    i+= 1\n",
    "        \n"
   ]
  },
  {
   "cell_type": "code",
   "execution_count": 32,
   "metadata": {
    "collapsed": true
   },
   "outputs": [],
   "source": [
    "fig, ax1 = plt.subplots()\n",
    "t = np.arange(0.01, 10.0, 0.01)\n",
    "s1 = np.exp(t)\n",
    "ax1.plot(t, s1, 'b-')\n",
    "ax1.set_xlabel('time (s)')\n",
    "# Make the y-axis label and tick labels match the line color.\n",
    "ax1.set_ylabel('exp', color='b')\n",
    "for tl in ax1.get_yticklabels():\n",
    "    tl.set_color('b')\n",
    "\n",
    "\n",
    "ax2 = ax1.twinx()\n",
    "s2 = np.sin(2*np.pi*t)\n",
    "ax2.plot(t, s2, 'r.')\n",
    "ax2.set_ylabel('sin', color='r')\n",
    "for tl in ax2.get_yticklabels():\n",
    "    tl.set_color('r')\n",
    "plt.show()"
   ]
  },
  {
   "cell_type": "code",
   "execution_count": 8,
   "metadata": {
    "collapsed": false
   },
   "outputs": [],
   "source": [
    "clf()\n",
    "close('all')"
   ]
  },
  {
   "cell_type": "code",
   "execution_count": null,
   "metadata": {
    "collapsed": true
   },
   "outputs": [],
   "source": []
  }
 ],
 "metadata": {
  "kernelspec": {
   "display_name": "Python 2",
   "language": "python",
   "name": "python2"
  },
  "language_info": {
   "codemirror_mode": {
    "name": "ipython",
    "version": 2
   },
   "file_extension": ".py",
   "mimetype": "text/x-python",
   "name": "python",
   "nbconvert_exporter": "python",
   "pygments_lexer": "ipython2",
   "version": "2.7.9"
  }
 },
 "nbformat": 4,
 "nbformat_minor": 0
}
